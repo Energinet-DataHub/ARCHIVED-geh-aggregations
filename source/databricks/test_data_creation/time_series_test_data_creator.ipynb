# Copyright 2020 Energinet DataHub A/S
#
# Licensed under the Apache License, Version 2.0 (the "License2");
# you may not use this file except in compliance with the License.
# You may obtain a copy of the License at
#
#     http://www.apache.org/licenses/LICENSE-2.0
#
# Unless required by applicable law or agreed to in writing, software
# distributed under the License is distributed on an "AS IS" BASIS,
# WITHOUT WARRANTIES OR CONDITIONS OF ANY KIND, either express or implied.
# See the License for the specific language governing permissions and
# limitations under the License.

# %% Imports

from pyspark.sql.types import StringType, TimestampType, StructType
from pyspark.sql.functions import col
from pyspark.sql import SparkSession


# %% Setup

storage_account_name = "STORAGE_ACCOUNT_NAME"
storage_account_key = "STORAGE_ACCOUNT_KEY"
container_name = "CONTAINER_NAME"
spark.conf.set(f"fs.azure.account.key.{storage_account_name}.dfs.core.windows.net", storage_account_key)  # noqa: F821
output_delta_lake_path = "abfss://" + \
    container_name + \
    "@" + storage_account_name + \
    ".dfs.core.windows.net/delta/time_series_test_data/"


# %% Read from timeseries testdata csv

test_data_csv_source = "abfss://" + \
    container_name + \
    "@" + storage_account_name + \
    ".dfs.core.windows.net/test-data-base/TimeSeries(Auto).csv"

print(test_data_csv_source)

schema = StructType() \
      .add("MeteringPointId", StringType(), True) \
      .add("Quantity", StringType(), True) \
      .add("Quality", StringType(), True) \
      .add("Time", TimestampType(), True)

csv_df = spark.read.format('csv'). \
    options(inferSchema="true", delimiter=";", header="true"). \
        schema(schema).load(test_data_csv_source)  # noqa: F821

# %% Filter to get only valid rows. Save data to deltatable (overwrites existing data)

csv_df.filter(col("MeteringPointIdy").isNotNull()).write.format("delta").mode("overwrite").save(output_delta_lake_path)
